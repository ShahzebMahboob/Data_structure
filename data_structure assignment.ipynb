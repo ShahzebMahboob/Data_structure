{
 "cells": [
  {
   "cell_type": "markdown",
   "id": "2de068f9-c3b8-435a-9393-2751d96a0d27",
   "metadata": {},
   "source": [
    "# Theory Questions:"
   ]
  },
  {
   "cell_type": "code",
   "execution_count": 3,
   "id": "48cf8883-bdf2-4ab3-b1d4-620989d64deb",
   "metadata": {},
   "outputs": [],
   "source": [
    "#Q1.What are data structures, and why are they important?\n",
    "#Ans. Data structures are ways of organizing and storing data in a computer so that it can be accessed and modified efficiently.\n",
    "# Common Types of Data Structures:\n",
    "#* Arrays: Fixed-size structures that store elements of the same type.\n",
    "#* Linked Lists: A sequence of elements, each pointing to the next.\n",
    "#* Stacks: Last-In-First-Out (LIFO) structures.\n",
    "#* Queues: First-In-First-Out (FIFO) structures.\n",
    "#* Trees: Hierarchical structures (e.g., binary trees).\n",
    "#* Graphs: Sets of nodes connected by edges.\n",
    "#* Hash Tables: Store key-value pairs for fast lookup.\n",
    "\n",
    "# Data structure are important:\n",
    "#1. Efficiency: The right data structure can drastically improve the performance of algorithms (speed, memory usage).\n",
    "#2. Organization: Helps in logically organizing and managing data for real-world problems.\n",
    "#3. Code Clarity: Makes code cleaner, more modular, and easier to maintain.\n",
    "#4. Problem Solving: Essential in software development, especially in algorithms, databases, networking, and more.\n",
    "#5. Scalability: Supports applications that manage large volumes of data (e.g., search engines, social networks)."
   ]
  },
  {
   "cell_type": "code",
   "execution_count": 5,
   "id": "7505d40a-d078-4c72-a311-43c963d196ee",
   "metadata": {},
   "outputs": [],
   "source": [
    "#Q2.  Explain the difference between mutable and immutable data types with examples.\n",
    "#Ans. In programming, mutable and immutable data types refer to whether or not the value of an object can be changed after it is created.\n",
    "#  Mutable Data Types:\n",
    "#> These are data types whose values can be changed after the object is created.\n",
    "# Examples in Python:\n",
    "# list\n",
    "# dict\n",
    "# set\n",
    "# bytearray\n",
    "\n",
    "#  Immutable Data Types:\n",
    "#> These are data types whose values cannot be changed after the object is created.\n",
    "# Examples in Python:\n",
    "# int\n",
    "# float\n",
    "# str\n",
    "# tuple\n",
    "# frozenset\n",
    "# bytes"
   ]
  },
  {
   "cell_type": "code",
   "execution_count": 7,
   "id": "f1f3eaf6-33ec-4cf2-a2c7-4e32de967985",
   "metadata": {},
   "outputs": [],
   "source": [
    "#Q3. What are the main differences between lists and tuples in Python.\n",
    "#Ans. The main differences between lists and tuples in Python revolve around mutability, syntax are:\n",
    "# list:\n",
    "#>> A list is a mutable sequence data type in Python used to store a collection of ordered items.\n",
    "# You can modify the elements (add, remove, or change them).\n",
    "# Defined using square brackets [].\n",
    "\n",
    "# Tuples:\n",
    "#>> A tuple is an immutable sequence data type in Python used to store a collection of ordered items.\n",
    "# You cannot modify its elements after creation.\n",
    "# Defined using parentheses ().\n",
    "\n",
    "#1. List = mutable, uses []\n",
    "#2. Tuple = immutable, uses ()"
   ]
  },
  {
   "cell_type": "code",
   "execution_count": 11,
   "id": "562c33a9-2fe5-42cc-8230-43abf41957e4",
   "metadata": {},
   "outputs": [
    {
     "data": {
      "text/plain": [
       "{'name': 'Alice', 'age': 21, 'major': 'Computer Science'}"
      ]
     },
     "execution_count": 11,
     "metadata": {},
     "output_type": "execute_result"
    }
   ],
   "source": [
    "#Q4. Describe how dictionaries store data.\n",
    "#Ans. A dictionary in Python is an unordered, mutable collection that stores data in key-value pairs.\n",
    "# Each item in a dictionary is stored as:\n",
    "student = {\n",
    "    \"name\": \"Alice\",\n",
    "    \"age\": 21,\n",
    "    \"major\": \"Computer Science\"\n",
    "}\n",
    "student\n"
   ]
  },
  {
   "cell_type": "code",
   "execution_count": 13,
   "id": "80bb7d6b-bf29-4e4a-afb6-170fccc1a034",
   "metadata": {},
   "outputs": [
    {
     "name": "stdout",
     "output_type": "stream",
     "text": [
      "{1, 2, 3}\n"
     ]
    },
    {
     "data": {
      "text/plain": [
       "False"
      ]
     },
     "execution_count": 13,
     "metadata": {},
     "output_type": "execute_result"
    }
   ],
   "source": [
    "#Q5. Why might you use a set instead of a list in Python?\n",
    "#Ans. You might use a set instead of a list in Python when you need:\n",
    "#. 1. Unique Elements Only\n",
    "#>> Sets automatically remove duplicates.\n",
    "my_list = [1, 2, 2, 3]\n",
    "my_set = set(my_list)\n",
    "print(my_set)  # Output: {1, 2, 3}\n",
    "\n",
    "# 2. Faster Membership Testing\n",
    "#>> Checking if an item is in a set is much faster than in a list (average O(1) vs. O(n))\n",
    "\"apple\" in my_set  # Fast\n",
    "\"apple\" in my_list  # Slower\n"
   ]
  },
  {
   "cell_type": "code",
   "execution_count": 15,
   "id": "14c9e7f6-d00f-4a54-ab31-20292e974643",
   "metadata": {},
   "outputs": [
    {
     "name": "stdout",
     "output_type": "stream",
     "text": [
      "e\n",
      "['H', 'e', 'l', 'l', 'o']\n"
     ]
    }
   ],
   "source": [
    "#Q6. What is a string in Python, and how is it different from a list.\n",
    "#Ans. A string in Python is an immutable sequence of characters, used to represent text.\n",
    "#>> Defined using quotes: 'hello' or \"hello\"\n",
    "#>> Each character in the string is accessible by index\n",
    "text = \"hello\"\n",
    "print(text[1])  # Output: 'e'\n",
    "# A string is an immutable sequence of characters, while a list is a mutable sequence of elements that can include different data types.\n",
    "# String\n",
    "s = \"hello\"\n",
    "# s[0] = 'H'  # ❌ Error: strings are immutable\n",
    "\n",
    "# List\n",
    "l = ['h', 'e', 'l', 'l', 'o']\n",
    "l[0] = 'H'\n",
    "print(l)  # ✅ Output: ['H', 'e', 'l', 'l', 'o']\n"
   ]
  },
  {
   "cell_type": "code",
   "execution_count": 17,
   "id": "a3d23284-1efc-4ee8-878a-eb23337f82ab",
   "metadata": {},
   "outputs": [
    {
     "ename": "TypeError",
     "evalue": "'tuple' object does not support item assignment",
     "output_type": "error",
     "traceback": [
      "\u001b[1;31m---------------------------------------------------------------------------\u001b[0m",
      "\u001b[1;31mTypeError\u001b[0m                                 Traceback (most recent call last)",
      "Cell \u001b[1;32mIn[17], line 7\u001b[0m\n\u001b[0;32m      1\u001b[0m \u001b[38;5;66;03m#Q7. How do tuples ensure data integrity in Python.\u001b[39;00m\n\u001b[0;32m      2\u001b[0m \u001b[38;5;66;03m#Ans. Tuples ensure data integrity by being immutable — meaning their contents cannot be changed after creation.\u001b[39;00m\n\u001b[0;32m      3\u001b[0m \u001b[38;5;66;03m#. Once a tuple is defined:\u001b[39;00m\n\u001b[0;32m      4\u001b[0m \u001b[38;5;66;03m#* You cannot add, remove, or modify any element.\u001b[39;00m\n\u001b[0;32m      5\u001b[0m \u001b[38;5;66;03m#* The data stays exactly as it was created, preventing accidental changes.\u001b[39;00m\n\u001b[0;32m      6\u001b[0m person_info \u001b[38;5;241m=\u001b[39m (\u001b[38;5;124m\"\u001b[39m\u001b[38;5;124mAlice\u001b[39m\u001b[38;5;124m\"\u001b[39m, \u001b[38;5;241m25\u001b[39m, \u001b[38;5;124m\"\u001b[39m\u001b[38;5;124mEngineer\u001b[39m\u001b[38;5;124m\"\u001b[39m)\n\u001b[1;32m----> 7\u001b[0m person_info[\u001b[38;5;241m1\u001b[39m] \u001b[38;5;241m=\u001b[39m \u001b[38;5;241m26\u001b[39m\n",
      "\u001b[1;31mTypeError\u001b[0m: 'tuple' object does not support item assignment"
     ]
    }
   ],
   "source": [
    "#Q7. How do tuples ensure data integrity in Python.\n",
    "#Ans. Tuples ensure data integrity by being immutable — meaning their contents cannot be changed after creation.\n",
    "#. Once a tuple is defined:\n",
    "#* You cannot add, remove, or modify any element.\n",
    "#* The data stays exactly as it was created, preventing accidental changes.\n",
    "person_info = (\"Alice\", 25, \"Engineer\")\n",
    "person_info[1] = 26  # ❌ Raises TypeError — tuple is immutable\n"
   ]
  },
  {
   "cell_type": "code",
   "execution_count": 19,
   "id": "fec3becc-6c5e-4502-95ac-304efd9ea117",
   "metadata": {},
   "outputs": [
    {
     "name": "stdout",
     "output_type": "stream",
     "text": [
      "Alice\n"
     ]
    }
   ],
   "source": [
    "#Q8. What is a hash table, and how does it relate to dictionaries in Python.\n",
    "#Ans. A hash table is a data structure that stores key-value pairs and uses a hash function to compute an index (or \"slot\") for each key.\n",
    "#* This index determines where the corresponding value is stored in memory.\n",
    "#* Hash tables allow for fast access, insertion, and deletion — typically in O(1) time on average.\n",
    "#>> In Python, a dictionary (dict) is implemented using a hash table.\n",
    "student = {\"name\": \"Alice\"} #You define a key-value pair\n",
    "hash(\"name\")  # Returns an integer\n",
    "print(student[\"name\"]) #That hash determines where to store the value \"Alice\" in memory.\n",
    "\n",
    "\n"
   ]
  },
  {
   "cell_type": "code",
   "execution_count": 21,
   "id": "6bf89486-1ed5-494c-94d1-579f34eebd2b",
   "metadata": {},
   "outputs": [
    {
     "name": "stdout",
     "output_type": "stream",
     "text": [
      "[42, 'hello', 3.14, True, [1, 2, 3]]\n"
     ]
    }
   ],
   "source": [
    "#Q9. Can lists contain different data types in Python.\n",
    "#Ans. Yes In Python, lists can contain elements of different data types all at the same time.\n",
    "my_list = [42, \"hello\", 3.14, True, [1, 2, 3]]\n",
    "print(my_list)\n",
    "# Output: [42, 'hello', 3.14, True, [1, 2, 3]]\n",
    "#Here, the list contains:\n",
    "#* An integer (42)\n",
    "#* A string (\"hello\")\n",
    "#* A float (3.14)\n",
    "#* A boolean (True)\n",
    "#* Another list ([1, 2, 3])\n"
   ]
  },
  {
   "cell_type": "code",
   "execution_count": 23,
   "id": "ec0d69ed-fd5f-4ac8-a09d-313ca16a9c08",
   "metadata": {},
   "outputs": [
    {
     "ename": "TypeError",
     "evalue": "'str' object does not support item assignment",
     "output_type": "error",
     "traceback": [
      "\u001b[1;31m---------------------------------------------------------------------------\u001b[0m",
      "\u001b[1;31mTypeError\u001b[0m                                 Traceback (most recent call last)",
      "Cell \u001b[1;32mIn[23], line 5\u001b[0m\n\u001b[0;32m      1\u001b[0m \u001b[38;5;66;03m#Q10. Explain why strings are immutable in Python.\u001b[39;00m\n\u001b[0;32m      2\u001b[0m \u001b[38;5;66;03m#Ans. Strings in Python are immutable, meaning once a string is created, it cannot be changed.\u001b[39;00m\n\u001b[0;32m      3\u001b[0m \u001b[38;5;66;03m# Example:\u001b[39;00m\n\u001b[0;32m      4\u001b[0m s \u001b[38;5;241m=\u001b[39m \u001b[38;5;124m\"\u001b[39m\u001b[38;5;124mhello\u001b[39m\u001b[38;5;124m\"\u001b[39m\n\u001b[1;32m----> 5\u001b[0m s[\u001b[38;5;241m0\u001b[39m] \u001b[38;5;241m=\u001b[39m \u001b[38;5;124m\"\u001b[39m\u001b[38;5;124mH\u001b[39m\u001b[38;5;124m\"\u001b[39m\n",
      "\u001b[1;31mTypeError\u001b[0m: 'str' object does not support item assignment"
     ]
    }
   ],
   "source": [
    "#Q10. Explain why strings are immutable in Python.\n",
    "#Ans. Strings in Python are immutable, meaning once a string is created, it cannot be changed.\n",
    "# Example:\n",
    "s = \"hello\"\n",
    "s[0] = \"H\"  # Raises TypeError: 'str' object does not support item assignment\n",
    "\n"
   ]
  },
  {
   "cell_type": "code",
   "execution_count": 25,
   "id": "e2915b4c-20e1-4e67-8ff4-a053e28bd607",
   "metadata": {},
   "outputs": [],
   "source": [
    "#Q11. What advantages do dictionaries offer over lists for certain tasks?\n",
    "#Ans. Dictionaries are data structures that store data as key-value pairs, allowing fast access, insertion, and modification of values by their keys.\n",
    "# Lists are ordered collections of items accessed by their index positions.\n",
    "# Dictionaries offer faster and more direct access to data via unique keys, making them ideal for tasks where data retrieval by meaningful identifiers is needed, whereas lists require accessing data by numeric indexes.\n",
    "# Example:\n",
    "#. Using a list for user info:\n",
    "user = [\"Alice\", 30, \"alice@example.com\"]\n",
    "# Need to remember index to get age:\n",
    "age = user[1]\n",
    "\n",
    "#. Using a dictionary:\n",
    "user = {\"name\": \"Alice\", \"age\": 30, \"email\": \"alice@example.com\"}\n",
    "age = user[\"age\"]  # More readable and direct\n",
    "\n"
   ]
  },
  {
   "cell_type": "code",
   "execution_count": 27,
   "id": "2a96b6e0-2a52-48b9-a7e6-2fd4dce36ec3",
   "metadata": {},
   "outputs": [],
   "source": [
    "#Q12. Describe a scenario where using a tuple would be preferable over a list.\n",
    "#Ans. Storing fixed configuration data or constants that should not change throughout the program.\n",
    "#. Example:\n",
    "#. Suppose you have a program that deals with the coordinates of a point in 2D space:\n",
    "point = (10, 20)\n",
    "#* The coordinates (10, 20) represent a fixed location.\n",
    "#* You don’t want these values to be accidentally changed later.\n",
    "#* Using a tuple ensures the data stays immutable and reliable."
   ]
  },
  {
   "cell_type": "code",
   "execution_count": 29,
   "id": "81521225-98c0-45f1-a6dc-9a74bf4c38e1",
   "metadata": {},
   "outputs": [
    {
     "name": "stdout",
     "output_type": "stream",
     "text": [
      "{1, 2, 3, 4}\n"
     ]
    }
   ],
   "source": [
    "#Q13. How do sets handle duplicate values in Python?\n",
    "#Ans. When you add elements to a set, only unique values are kept.\n",
    "#. If you try to add a duplicate, the set ignores it and keeps only one instance.\n",
    "#. Example:\n",
    "my_set = {1, 2, 2, 3, 4, 4, 4}\n",
    "print(my_set)  # Output: {1, 2, 3, 4}\n"
   ]
  },
  {
   "cell_type": "code",
   "execution_count": 31,
   "id": "0ca3a9cc-0689-483b-a887-1b79fec24e9c",
   "metadata": {},
   "outputs": [
    {
     "name": "stdout",
     "output_type": "stream",
     "text": [
      "True\n",
      "False\n",
      "True\n",
      "False\n"
     ]
    }
   ],
   "source": [
    "#Q14. How does the “in” keyword work differently for lists and dictionaries?\n",
    "#Ans.  For Lists:\n",
    "#. The in keyword checks if a value exists among the elements.\n",
    "#. It searches through each item one by one (linear search).\n",
    "#.Time complexity: O(n) (slower for large lists).\n",
    "#. Example:\n",
    "my_list = [10, 20, 30]\n",
    "print(20 in my_list)  # True\n",
    "print(40 in my_list)  # False\n",
    "\n",
    "# . For Dictionaries:\n",
    "#. The in keyword checks if a key exists in the dictionary.\n",
    "#. It uses the dictionary’s hash table for a fast lookup.\n",
    "#.Time complexity: O(1) on average (very fast).\n",
    "#Example:\n",
    "my_dict = {'a': 1, 'b': 2, 'c': 3}\n",
    "print('b' in my_dict)  # True\n",
    "print('z' in my_dict)  # False\n"
   ]
  },
  {
   "cell_type": "code",
   "execution_count": 33,
   "id": "571cd257-8db3-47c3-a1fb-0e703643bb82",
   "metadata": {},
   "outputs": [
    {
     "ename": "TypeError",
     "evalue": "'tuple' object does not support item assignment",
     "output_type": "error",
     "traceback": [
      "\u001b[1;31m---------------------------------------------------------------------------\u001b[0m",
      "\u001b[1;31mTypeError\u001b[0m                                 Traceback (most recent call last)",
      "Cell \u001b[1;32mIn[33], line 8\u001b[0m\n\u001b[0;32m      1\u001b[0m \u001b[38;5;66;03m#Q15. Can you modify the elements of a tuple? Explain why or why not.\u001b[39;00m\n\u001b[0;32m      2\u001b[0m \u001b[38;5;66;03m#Ans. No, you cannot modify the elements of a tuple in Python.\u001b[39;00m\n\u001b[0;32m      3\u001b[0m \u001b[38;5;66;03m# Tuples are immutable, meaning that once created, their contents cannot be changed — you cannot:\u001b[39;00m\n\u001b[0;32m      4\u001b[0m \u001b[38;5;66;03m# Add or remove elements\u001b[39;00m\n\u001b[0;32m      5\u001b[0m \u001b[38;5;66;03m# Change individual items\u001b[39;00m\n\u001b[0;32m      6\u001b[0m \u001b[38;5;66;03m#Examples:\u001b[39;00m\n\u001b[0;32m      7\u001b[0m t \u001b[38;5;241m=\u001b[39m (\u001b[38;5;241m1\u001b[39m, \u001b[38;5;241m2\u001b[39m, \u001b[38;5;241m3\u001b[39m)\n\u001b[1;32m----> 8\u001b[0m t[\u001b[38;5;241m0\u001b[39m] \u001b[38;5;241m=\u001b[39m \u001b[38;5;241m10\u001b[39m\n",
      "\u001b[1;31mTypeError\u001b[0m: 'tuple' object does not support item assignment"
     ]
    }
   ],
   "source": [
    "#Q15. Can you modify the elements of a tuple? Explain why or why not.\n",
    "#Ans. No, you cannot modify the elements of a tuple in Python.\n",
    "# Tuples are immutable, meaning that once created, their contents cannot be changed — you cannot:\n",
    "# Add or remove elements\n",
    "# Change individual items\n",
    "#Examples:\n",
    "t = (1, 2, 3)\n",
    "t[0] = 10  # ❌ TypeError: 'tuple' object does not support item assignment\n"
   ]
  },
  {
   "cell_type": "code",
   "execution_count": 37,
   "id": "3783c258-3b23-4c29-aa29-c1949eb8d21d",
   "metadata": {},
   "outputs": [
    {
     "data": {
      "text/plain": [
       "{'name': 'Alice',\n",
       " 'grades': {'math': 90, 'science': 85, 'english': 88},\n",
       " 'year': 2025}"
      ]
     },
     "execution_count": 37,
     "metadata": {},
     "output_type": "execute_result"
    }
   ],
   "source": [
    "#Q16.  What is a nested dictionary, and give an example of its use case.\n",
    "#Ans. A nested dictionary is a dictionary where the value of one or more keys is another dictionary.\n",
    "#. It allows you to organize complex or hierarchical data in a structured way.\n",
    "#. Example of a Nested Dictionary:\n",
    "student = {\n",
    "    \"name\": \"Alice\",\n",
    "    \"grades\": {\n",
    "        \"math\": 90,\n",
    "        \"science\": 85,\n",
    "        \"english\": 88\n",
    "    },\n",
    "    \"year\": 2025\n",
    "}\n",
    "student"
   ]
  },
  {
   "cell_type": "code",
   "execution_count": 39,
   "id": "2f2f63b6-7cd4-4480-bb00-7c193fb709ae",
   "metadata": {},
   "outputs": [
    {
     "name": "stdout",
     "output_type": "stream",
     "text": [
      "30\n"
     ]
    }
   ],
   "source": [
    "#Q17. Describe the time complexity of accessing elements in a dictionary.\n",
    "#Ans. Accessing an element by key in a dictionary is very fast.\n",
    "#. Python uses a hash table internally, so it can go directly to the value using the key’s hash.\n",
    "my_dict = {\"name\": \"Alice\", \"age\": 30}\n",
    "print(my_dict[\"age\"])  # O(1)\n"
   ]
  },
  {
   "cell_type": "code",
   "execution_count": 41,
   "id": "22ab6ba5-0062-4640-8416-653ba381ebfa",
   "metadata": {},
   "outputs": [],
   "source": [
    "#Q18. In what situations are lists preferred over dictionaries.\n",
    "#Ans. When Order and Sequence Are Important\n",
    "#Lists maintain the insertion order and allow access by index.\n",
    "#. Example:\n",
    "steps = [\"wake up\", \"brush teeth\", \"eat breakfast\"]\n",
    "\n",
    "#. When You Only Need Values (No Keys)\n",
    "# Lists are ideal for storing a simple collection of items.\n",
    "\n",
    "#. Example:\n",
    "colors = [\"red\", \"green\", \"blue\"]\n",
    "# When You Need to Iterate in Order\n",
    "# For Storing Homogeneous Data\n",
    "#  When Index-Based Access Is Needed\n",
    "# When Data Has No Unique Identifier"
   ]
  },
  {
   "cell_type": "code",
   "execution_count": 43,
   "id": "3537f0f1-7057-4cbb-a6c1-0ef6a8e73707",
   "metadata": {},
   "outputs": [
    {
     "name": "stdout",
     "output_type": "stream",
     "text": [
      "{'a': 1, 'b': 2, 'c': 3}\n"
     ]
    }
   ],
   "source": [
    "#Q19. Why are dictionaries considered unordered, and how does that affect data retrieval.\n",
    "#Ans. Starting with Python 3.7, dictionaries do preserve insertion order as an implementation detail, and in Python 3.8+, it's a language guarantee.\n",
    "# Python 3.7+\n",
    "d = {\"a\": 1, \"b\": 2, \"c\": 3}\n",
    "print(d)  # Output: {'a': 1, 'b': 2, 'c': 3}\n",
    "\n"
   ]
  },
  {
   "cell_type": "code",
   "execution_count": 45,
   "id": "7f49fa3e-24ae-43d9-a64e-88feb63c8739",
   "metadata": {},
   "outputs": [
    {
     "name": "stdout",
     "output_type": "stream",
     "text": [
      "banana\n",
      "30\n"
     ]
    }
   ],
   "source": [
    "#Q20. Explain the difference between a list and a dictionary in terms of data retrieval.\n",
    "#Ans. List:\n",
    "#* A list is an ordered collection of items in Python. Data is retrieved using the index position of the item (e.g., list[0]).\n",
    "\n",
    "# Dictionary:\n",
    "#* A dictionary is an unordered collection of key-value pairs. Data is retrieved using the key (e.g., dict[\"name\"]), not a numeric index\n",
    "# List\n",
    "fruits = [\"apple\", \"banana\", \"cherry\"]\n",
    "print(fruits[1])  # Output: banana\n",
    "\n",
    "# Dictionary\n",
    "person = {\"name\": \"Alice\", \"age\": 30}\n",
    "print(person[\"age\"])  # Output: 30\n"
   ]
  },
  {
   "cell_type": "markdown",
   "id": "fa68a496-b646-40a2-ae96-0ef31d8ab37b",
   "metadata": {},
   "source": [
    "#Practical question:"
   ]
  },
  {
   "cell_type": "code",
   "execution_count": 51,
   "id": "5e33bff7-9845-4908-8167-61137f784dc4",
   "metadata": {},
   "outputs": [
    {
     "name": "stdout",
     "output_type": "stream",
     "text": [
      "My name is Shahzeb\n"
     ]
    }
   ],
   "source": [
    "#Q1. Write a code to create a string with your name and print it.\n",
    "#Ans. Here's a simple Python code to create a string with a name and print it:\n",
    "name = \"Shahzeb\" \n",
    "print(\"My name is\", name)\n"
   ]
  },
  {
   "cell_type": "code",
   "execution_count": 53,
   "id": "07c7fb69-7d9f-4328-a23c-498a03500870",
   "metadata": {},
   "outputs": [
    {
     "name": "stdout",
     "output_type": "stream",
     "text": [
      "Length of the string is: 11\n"
     ]
    }
   ],
   "source": [
    "#Q2. Write a code to find the length of the string \"Hello World\".\n",
    "#Ans. Here's the Python code to find the length of the string \"Hello World\":\n",
    "text = \"Hello World\"\n",
    "length = len(text)\n",
    "print(\"Length of the string is:\", length)\n"
   ]
  },
  {
   "cell_type": "code",
   "execution_count": 55,
   "id": "64dded6a-1c13-4b28-9cad-bd6a0f76f457",
   "metadata": {},
   "outputs": [
    {
     "name": "stdout",
     "output_type": "stream",
     "text": [
      "First 3 characters: Pyt\n"
     ]
    }
   ],
   "source": [
    "#Q3. Write a code to slice the first 3 characters from the string \"Python Programming\".\n",
    "#Ans.  Here's a simple Python code to slice the first 3 characters from the string \"Python Programming\":\n",
    "text = \"Python Programming\"\n",
    "sliced = text[:3]  # Slices from index 0 to 2\n",
    "print(\"First 3 characters:\", sliced)\n"
   ]
  },
  {
   "cell_type": "code",
   "execution_count": 57,
   "id": "8e23d943-b9c4-4c3d-aebc-0877353de914",
   "metadata": {},
   "outputs": [
    {
     "name": "stdout",
     "output_type": "stream",
     "text": [
      "Uppercase: HELLO\n"
     ]
    }
   ],
   "source": [
    "#Q4. Write a code to convert the string \"hello\" to uppercase.\n",
    "#Ans. Here's the Python code to convert the string \"hello\" to uppercase:\n",
    "text = \"hello\"\n",
    "uppercase_text = text.upper()\n",
    "print(\"Uppercase:\", uppercase_text)\n"
   ]
  },
  {
   "cell_type": "code",
   "execution_count": 59,
   "id": "3ca07c8e-0004-421b-96d9-060a1dc64c2d",
   "metadata": {},
   "outputs": [
    {
     "name": "stdout",
     "output_type": "stream",
     "text": [
      "I like orange\n"
     ]
    }
   ],
   "source": [
    "#Q5. Write a code to replace the word \"apple\" with \"orange\" in the string \"I like apple\"P#Q5. Write a code to replace the word \"apple\" with \"orange\" in the string \"I like apple\"\n",
    "#Ans. Here's the Python code to replace the word \"apple\" with \"orange\" in the string \"I like apple\":\n",
    "text = \"I like apple\"\n",
    "new_text = text.replace(\"apple\", \"orange\")\n",
    "print(new_text)\n"
   ]
  },
  {
   "cell_type": "code",
   "execution_count": 61,
   "id": "746249ec-e942-4deb-8fd7-9851642954cc",
   "metadata": {},
   "outputs": [
    {
     "name": "stdout",
     "output_type": "stream",
     "text": [
      "List of numbers: [1, 2, 3, 4, 5]\n"
     ]
    }
   ],
   "source": [
    "#Q6. Write a code to create a list with numbers 1 to 5 and print it.\n",
    "#Ans. Here's the Python code to create a list with numbers from 1 to 5 and print it:\n",
    "numbers = [1, 2, 3, 4, 5]\n",
    "print(\"List of numbers:\", numbers)\n"
   ]
  },
  {
   "cell_type": "code",
   "execution_count": 63,
   "id": "dd9818ac-f278-407e-89f8-cdc64af1dcd5",
   "metadata": {},
   "outputs": [
    {
     "name": "stdout",
     "output_type": "stream",
     "text": [
      "Updated list: [1, 2, 3, 4, 10]\n"
     ]
    }
   ],
   "source": [
    "#Q7. Write a code to append the number 10 to the list [1, 2, 3, 4]\n",
    "#Ans. Here's the Python code to append the number 10 to the list [1, 2, 3, 4]:\n",
    "numbers = [1, 2, 3, 4]\n",
    "numbers.append(10)\n",
    "print(\"Updated list:\", numbers)\n"
   ]
  },
  {
   "cell_type": "code",
   "execution_count": 65,
   "id": "c9230638-9125-4b10-952b-d746f90248fd",
   "metadata": {},
   "outputs": [
    {
     "name": "stdout",
     "output_type": "stream",
     "text": [
      "Updated list: [1, 2, 4, 5]\n"
     ]
    }
   ],
   "source": [
    "#Q8. P Write a code to remove the number 3 from the list [1, 2, 3, 4, 5]\n",
    "#Ans. Here's the Python code to remove the number 3 from the list [1, 2, 3, 4, 5]:\n",
    "numbers = [1, 2, 3, 4, 5]\n",
    "numbers.remove(3)\n",
    "print(\"Updated list:\", numbers)\n"
   ]
  },
  {
   "cell_type": "code",
   "execution_count": 67,
   "id": "7a75aab3-9160-47a7-9fc5-3317dc5d8344",
   "metadata": {},
   "outputs": [
    {
     "name": "stdout",
     "output_type": "stream",
     "text": [
      "Second element: b\n"
     ]
    }
   ],
   "source": [
    "#Q9.  Write a code to access the second element in the list ['a', 'b', 'c', 'd']\n",
    "#Ans. Here's the Python code to access the second element in the list ['a', 'b', 'c', 'd']:\n",
    "letters = ['a', 'b', 'c', 'd']\n",
    "second_element = letters[1]  # Indexing starts at 0\n",
    "print(\"Second element:\", second_element)\n"
   ]
  },
  {
   "cell_type": "code",
   "execution_count": 69,
   "id": "f79b430f-a246-4b2f-ba7d-1f4135e86d04",
   "metadata": {},
   "outputs": [
    {
     "name": "stdout",
     "output_type": "stream",
     "text": [
      "Reversed list: [50, 40, 30, 20, 10]\n"
     ]
    }
   ],
   "source": [
    "#Q10. Write a code to reverse the list [10, 20, 30, 40, 50].\n",
    "#Ans.  Here's the Python code to reverse the list [10, 20, 30, 40, 50]:\n",
    "numbers = [10, 20, 30, 40, 50]\n",
    "numbers.reverse()\n",
    "print(\"Reversed list:\", numbers)\n"
   ]
  },
  {
   "cell_type": "code",
   "execution_count": 71,
   "id": "c98da367-70b6-4495-88f9-940a81f2a6b1",
   "metadata": {},
   "outputs": [
    {
     "name": "stdout",
     "output_type": "stream",
     "text": [
      "Tuple: (100, 200, 300)\n"
     ]
    }
   ],
   "source": [
    "#Q11. Write a code to create a tuple with the elements 100, 200, 300 and print it.\n",
    "#Ans. Here's the Python code to create a tuple with the elements 100, 200, and 300, and print it:\n",
    "my_tuple = (100, 200, 300)\n",
    "print(\"Tuple:\", my_tuple)\n"
   ]
  },
  {
   "cell_type": "code",
   "execution_count": 73,
   "id": "4ef427e0-8413-414b-90d5-c1b721f30421",
   "metadata": {},
   "outputs": [
    {
     "name": "stdout",
     "output_type": "stream",
     "text": [
      "Second-to-last element: blue\n"
     ]
    }
   ],
   "source": [
    "#Q12.  Write a code to access the second-to-last element of the tuple ('red', 'green', 'blue', 'yellow').\n",
    "#Ans. Here's the Python code to access the second-to-last element of the tuple ('red', 'green', 'blue', 'yellow'):\n",
    "colors = ('red', 'green', 'blue', 'yellow')\n",
    "second_to_last = colors[-2]  # Negative indexing\n",
    "print(\"Second-to-last element:\", second_to_last)\n"
   ]
  },
  {
   "cell_type": "code",
   "execution_count": 75,
   "id": "f32b6e70-e9a3-4134-a2bd-284676ec3eae",
   "metadata": {},
   "outputs": [
    {
     "name": "stdout",
     "output_type": "stream",
     "text": [
      "Minimum number: 5\n"
     ]
    }
   ],
   "source": [
    "#Q13. Write a code to find the minimum number in the tuple (10, 20, 5, 15).\n",
    "#Ans. Here's the Python code to find the minimum number in the tuple (10, 20, 5, 15):\n",
    "numbers = (10, 20, 5, 15)\n",
    "minimum = min(numbers)\n",
    "print(\"Minimum number:\", minimum)\n"
   ]
  },
  {
   "cell_type": "code",
   "execution_count": 77,
   "id": "3829986e-45dc-4e0c-a993-8d105098855a",
   "metadata": {},
   "outputs": [
    {
     "name": "stdout",
     "output_type": "stream",
     "text": [
      "Index of 'cat': 1\n"
     ]
    }
   ],
   "source": [
    "#Q14.  Write a code to find the index of the element \"cat\" in the tuple ('dog', 'cat', 'rabbit').\n",
    "#Ans. Here's the Python code to find the index of the element \"cat\" in the tuple ('dog', 'cat', 'rabbit'):\n",
    "animals = ('dog', 'cat', 'rabbit')\n",
    "index = animals.index('cat')\n",
    "print(\"Index of 'cat':\", index)\n"
   ]
  },
  {
   "cell_type": "code",
   "execution_count": 79,
   "id": "5d99123f-c6b9-4560-b9cc-57139ddf832c",
   "metadata": {},
   "outputs": [
    {
     "name": "stdout",
     "output_type": "stream",
     "text": [
      "Is 'kiwi' in the tuple? False\n"
     ]
    }
   ],
   "source": [
    "#Q15. Write a code to create a tuple containing three different fruits and check if \"kiwi\" is in it.\n",
    "#Ans. Here's the Python code to create a tuple with three fruits and check if \"kiwi\" is in it:\n",
    "fruits = (\"apple\", \"banana\", \"orange\")\n",
    "is_kiwi_present = \"kiwi\" in fruits\n",
    "print(\"Is 'kiwi' in the tuple?\", is_kiwi_present)\n"
   ]
  },
  {
   "cell_type": "code",
   "execution_count": 81,
   "id": "f0e31099-7800-406f-a5da-58c5d7c0a98e",
   "metadata": {},
   "outputs": [
    {
     "name": "stdout",
     "output_type": "stream",
     "text": [
      "Set: {'b', 'a', 'c'}\n"
     ]
    }
   ],
   "source": [
    "#Q16.  Write a code to create a set with the elements 'a', 'b', 'c' and print it.\n",
    "#Ans. Here's the Python code to create a set with elements 'a', 'b', 'c' and print it:\n",
    "my_set = {'a', 'b', 'c'}\n",
    "print(\"Set:\", my_set)\n"
   ]
  },
  {
   "cell_type": "code",
   "execution_count": 83,
   "id": "ae3e9cb5-ff93-4dba-938e-5ea196934b68",
   "metadata": {},
   "outputs": [
    {
     "name": "stdout",
     "output_type": "stream",
     "text": [
      "Cleared set: set()\n"
     ]
    }
   ],
   "source": [
    "#Q17. Write a code to clear all elements from the set {1, 2, 3, 4, 5}.\n",
    "#Ans. Here's the Python code to clear all elements from the set {1, 2, 3, 4, 5}:\n",
    "my_set = {1, 2, 3, 4, 5}\n",
    "my_set.clear()\n",
    "print(\"Cleared set:\", my_set)\n"
   ]
  },
  {
   "cell_type": "code",
   "execution_count": 85,
   "id": "e037a644-8a6c-4d26-b816-c793b32aff61",
   "metadata": {},
   "outputs": [
    {
     "name": "stdout",
     "output_type": "stream",
     "text": [
      "Set after removing 4: {1, 2, 3}\n"
     ]
    }
   ],
   "source": [
    "#Q18.  Write a code to remove the element 4 from the set {1, 2, 3, 4}.\n",
    "#Ans. Here's the Python code to remove the element 4 from the set {1, 2, 3, 4}:\n",
    "my_set = {1, 2, 3, 4}\n",
    "my_set.remove(4)\n",
    "print(\"Set after removing 4:\", my_set)\n"
   ]
  },
  {
   "cell_type": "code",
   "execution_count": 87,
   "id": "c57666c6-fc6a-4635-b2f2-e6662712cdfa",
   "metadata": {},
   "outputs": [
    {
     "name": "stdout",
     "output_type": "stream",
     "text": [
      "Union of sets: {1, 2, 3, 4, 5}\n"
     ]
    }
   ],
   "source": [
    "#Q19. Write a code to find the union of two sets {1, 2, 3} and {3, 4, 5}.\n",
    "#Ans.  Here's the Python code to find the union of the two sets {1, 2, 3} and {3, 4, 5}:\n",
    "set1 = {1, 2, 3}\n",
    "set2 = {3, 4, 5}\n",
    "union_set = set1.union(set2)\n",
    "print(\"Union of sets:\", union_set)\n"
   ]
  },
  {
   "cell_type": "code",
   "execution_count": 89,
   "id": "40434646-ef8d-41f7-9809-e17e0c51b54d",
   "metadata": {},
   "outputs": [
    {
     "name": "stdout",
     "output_type": "stream",
     "text": [
      "Intersection of sets: {2, 3}\n"
     ]
    }
   ],
   "source": [
    "#Q20. Write a code to find the intersection of two sets {1, 2, 3} and {2, 3, 4}.\n",
    "#Ans.  Here's the Python code to find the intersection of the two sets {1, 2, 3} and {2, 3, 4}:\n",
    "set1 = {1, 2, 3}\n",
    "set2 = {2, 3, 4}\n",
    "intersection_set = set1.intersection(set2)\n",
    "print(\"Intersection of sets:\", intersection_set)\n"
   ]
  },
  {
   "cell_type": "code",
   "execution_count": 91,
   "id": "424fa94d-9d90-4d33-a1e0-f7e8d45f1c98",
   "metadata": {},
   "outputs": [
    {
     "name": "stdout",
     "output_type": "stream",
     "text": [
      "Dictionary: {'name': 'Alice', 'age': 30, 'city': 'New York'}\n"
     ]
    }
   ],
   "source": [
    "#Q21. Write a code to create a dictionary with the keys \"name\", \"age\", and \"city\", and print it.\n",
    "#Ans. Here's the Python code to create a dictionary with the keys \"name\", \"age\", and \"city\", and print it:\n",
    "person = {\n",
    "    \"name\": \"Alice\",\n",
    "    \"age\": 30,\n",
    "    \"city\": \"New York\"\n",
    "}\n",
    "print(\"Dictionary:\", person)\n"
   ]
  },
  {
   "cell_type": "code",
   "execution_count": 93,
   "id": "9b154bf0-b7ae-41d6-a121-64b9a7c3eda8",
   "metadata": {},
   "outputs": [
    {
     "name": "stdout",
     "output_type": "stream",
     "text": [
      "Updated dictionary: {'name': 'John', 'age': 25, 'country': 'USA'}\n"
     ]
    }
   ],
   "source": [
    "#Q22. Write a code to add a new key-value pair \"country\": \"USA\" to the dictionary {'name': 'John', 'age': 25}.\n",
    "#Ans. Here's the Python code to add the key-value pair \"country\": \"USA\" to the dictionary {'name': 'John', 'age': 25}:\n",
    "person = {'name': 'John', 'age': 25}\n",
    "person['country'] = 'USA'\n",
    "print(\"Updated dictionary:\", person)\n"
   ]
  },
  {
   "cell_type": "code",
   "execution_count": 95,
   "id": "6a5cfa2b-fc0b-4a14-86f9-9a6dceea6a00",
   "metadata": {},
   "outputs": [
    {
     "name": "stdout",
     "output_type": "stream",
     "text": [
      "Value associated with 'name': Alice\n"
     ]
    }
   ],
   "source": [
    "#Q23.  Write a code to access the value associated with the key \"name\" in the dictionary {'name': 'Alice', 'age': 30\n",
    "#Ans. Here's the Python code to access the value associated with the key \"name\" in the dictionary {'name': 'Alice', 'age': 30}:\n",
    "person = {'name': 'Alice', 'age': 30}\n",
    "name_value = person['name']\n",
    "print(\"Value associated with 'name':\", name_value)\n"
   ]
  },
  {
   "cell_type": "code",
   "execution_count": 97,
   "id": "9dd37546-e21f-40dd-8df3-4166da398a65",
   "metadata": {},
   "outputs": [
    {
     "name": "stdout",
     "output_type": "stream",
     "text": [
      "Dictionary after removing 'age': {'name': 'Bob', 'city': 'New York'}\n"
     ]
    }
   ],
   "source": [
    "#Q24.  Write a code to remove the key \"age\" from the dictionary {'name': 'Bob', 'age': 22, 'city': 'New York'}.\n",
    "#Ans. Here's the Python code to remove the key \"age\" from the dictionary {'name': 'Bob', 'age': 22, 'city': 'New York'}:\n",
    "person = {'name': 'Bob', 'age': 22, 'city': 'New York'}\n",
    "person.pop('age')\n",
    "print(\"Dictionary after removing 'age':\", person)\n"
   ]
  },
  {
   "cell_type": "code",
   "execution_count": 99,
   "id": "4a33c390-9c86-4e0b-89cd-f2ec73909b04",
   "metadata": {},
   "outputs": [
    {
     "name": "stdout",
     "output_type": "stream",
     "text": [
      "Does the key 'city' exist? True\n"
     ]
    }
   ],
   "source": [
    "#Q25.  Write a code to check if the key \"city\" exists in the dictionary {'name': 'Alice', 'city': 'Paris'}.\n",
    "#Ans.  Here's the Python code to check if the key \"city\" exists in the dictionary {'name': 'Alice', 'city': 'Paris'}:\n",
    "person = {'name': 'Alice', 'city': 'Paris'}\n",
    "key_exists = 'city' in person\n",
    "print(\"Does the key 'city' exist?\", key_exists)\n"
   ]
  },
  {
   "cell_type": "code",
   "execution_count": 101,
   "id": "c994d436-aa3c-4eaa-a5b8-0fabb17ce0ed",
   "metadata": {},
   "outputs": [
    {
     "name": "stdout",
     "output_type": "stream",
     "text": [
      "List: [1, 2, 3]\n",
      "Tuple: ('a', 'b', 'c')\n",
      "Dictionary: {'name': 'Alice', 'age': 30}\n"
     ]
    }
   ],
   "source": [
    "#Q26.  Write a code to create a list, a tuple, and a dictionary, and print them all.\n",
    "#Ans. Here's the Python code to create a list, a tuple, and a dictionary, and then print them all:\n",
    "# Creating a list\n",
    "my_list = [1, 2, 3]\n",
    "\n",
    "# Creating a tuple\n",
    "my_tuple = ('a', 'b', 'c')\n",
    "\n",
    "# Creating a dictionary\n",
    "my_dict = {'name': 'Alice', 'age': 30}\n",
    "\n",
    "# Printing all\n",
    "print(\"List:\", my_list)\n",
    "print(\"Tuple:\", my_tuple)\n",
    "print(\"Dictionary:\", my_dict)\n"
   ]
  },
  {
   "cell_type": "code",
   "execution_count": 103,
   "id": "900f1ed0-fbac-4a7b-9da0-eb24a16f9c3b",
   "metadata": {},
   "outputs": [
    {
     "name": "stdout",
     "output_type": "stream",
     "text": [
      "Sorted random numbers: [4, 26, 49, 62, 78]\n"
     ]
    }
   ],
   "source": [
    "#Q27.  Write a code to create a list of 5 random numbers between 1 and 100, sort it in ascending order, and print the result.(replaced)\n",
    "#Ans.  Here's the Python code to create a list of 5 random numbers between 1 and 100, sort it in ascending order, and print the result:\n",
    "import random\n",
    "\n",
    "# Generate a list of 5 random numbers between 1 and 100\n",
    "random_numbers = [random.randint(1, 100) for _ in range(5)]\n",
    "\n",
    "# Sort the list in ascending order\n",
    "random_numbers.sort()\n",
    "\n",
    "# Print the sorted list\n",
    "print(\"Sorted random numbers:\", random_numbers)\n"
   ]
  },
  {
   "cell_type": "code",
   "execution_count": 105,
   "id": "56c90cac-e724-4d4f-9eb4-247d4be1c6cc",
   "metadata": {},
   "outputs": [
    {
     "name": "stdout",
     "output_type": "stream",
     "text": [
      "Element at index 3: date\n"
     ]
    }
   ],
   "source": [
    "#Q28. Write a code to create a list with strings and print the element at the third index.\n",
    "#Ans. Here's the Python code to create a list with strings and print the element at the third index (which is the fourth element, since indexing starts at 0):\n",
    "my_list = [\"apple\", \"banana\", \"cherry\", \"date\", \"elderberry\"]\n",
    "print(\"Element at index 3:\", my_list[3])\n"
   ]
  },
  {
   "cell_type": "code",
   "execution_count": 107,
   "id": "c760fd84-92ca-4f17-ae2e-91f750447874",
   "metadata": {},
   "outputs": [
    {
     "name": "stdout",
     "output_type": "stream",
     "text": [
      "Combined dictionary: {'a': 1, 'b': 2, 'c': 3, 'd': 4}\n"
     ]
    }
   ],
   "source": [
    "#Q29. Write a code to combine two dictionaries into one and print the result.\n",
    "#Ans.  Here's the Python code to combine two dictionaries into one and print the result:\n",
    "dict1 = {'a': 1, 'b': 2}\n",
    "dict2 = {'c': 3, 'd': 4}\n",
    "\n",
    "# Combine dictionaries (Python 3.9+)\n",
    "combined_dict = dict1 | dict2\n",
    "\n",
    "print(\"Combined dictionary:\", combined_dict)\n"
   ]
  },
  {
   "cell_type": "code",
   "execution_count": 109,
   "id": "420a882a-4d89-415b-beea-a69f3a8d8555",
   "metadata": {},
   "outputs": [
    {
     "name": "stdout",
     "output_type": "stream",
     "text": [
      "Set: {'banana', 'cherry', 'apple'}\n"
     ]
    }
   ],
   "source": [
    "#Q30. Write a code to convert a list of strings into a set.\n",
    "#Ans. Here's the Python code to convert a list of strings into a set:\n",
    "string_list = [\"apple\", \"banana\", \"apple\", \"cherry\", \"banana\"]\n",
    "string_set = set(string_list)\n",
    "print(\"Set:\", string_set)\n"
   ]
  },
  {
   "cell_type": "code",
   "execution_count": null,
   "id": "6a56075f-751d-4e60-9780-9b24082e79c5",
   "metadata": {},
   "outputs": [],
   "source": []
  }
 ],
 "metadata": {
  "kernelspec": {
   "display_name": "Python [conda env:base] *",
   "language": "python",
   "name": "conda-base-py"
  },
  "language_info": {
   "codemirror_mode": {
    "name": "ipython",
    "version": 3
   },
   "file_extension": ".py",
   "mimetype": "text/x-python",
   "name": "python",
   "nbconvert_exporter": "python",
   "pygments_lexer": "ipython3",
   "version": "3.12.7"
  }
 },
 "nbformat": 4,
 "nbformat_minor": 5
}
